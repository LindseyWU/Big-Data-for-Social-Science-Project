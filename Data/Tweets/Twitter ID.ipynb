{
 "cells": [
  {
   "cell_type": "code",
   "execution_count": 17,
   "metadata": {},
   "outputs": [
    {
     "name": "stdout",
     "output_type": "stream",
     "text": [
      "/Users/zhuziyue/Documents/Master (KU Leuven)/2022 Spring/Collecting and Analyzing Big Data for Social Science/project 2/2022_05\n"
     ]
    }
   ],
   "source": [
    "cd \"/Users/zhuziyue/Documents/Master (KU Leuven)/2022 Spring/Collecting and Analyzing Big Data for Social Science/project 2/2022_05\""
   ]
  },
  {
   "cell_type": "code",
   "execution_count": 4,
   "metadata": {},
   "outputs": [],
   "source": [
    "import pandas as pd"
   ]
  },
  {
   "cell_type": "code",
   "execution_count": 10,
   "metadata": {},
   "outputs": [],
   "source": [
    "docs1 = ['2021_january3_january4','2021_january4_january5','2021_january5_january6','2021_january6_january7',\n",
    "        '2021_january7_january8','2021_january8_january9','2021_january9_january10','2021_january10_january11',\n",
    "        '2021_january11_january12','2021_january12_january13','2021_january13_january14','2021_january14_january15',\n",
    "        '2021_january15_january16','2021_january16_january17','2021_january17_january18','2021_january18_january19',\n",
    "        '2021_january19_january20','2021_january20_january21','2021_january21_january22','2021_january22_january23',\n",
    "        '2021_january23_january24','2021_january24_january25','2021_january25_january26','2021_january26_january27',\n",
    "        '2021_january27_january28','2021_january28_january29','2021_january29_january30','2021_january30_january31',\n",
    "        '2021_january31_february1']"
   ]
  },
  {
   "cell_type": "code",
   "execution_count": 17,
   "metadata": {},
   "outputs": [],
   "source": [
    "docs2 = ['2021_february1_february2','2021_february2_february3','2021_february3_february4','2021_february4_february5',\n",
    "         '2021_february5_february6','2021_february6_february7','2021_february7_february8','2021_february8_february9',\n",
    "         '2021_february9_february10','2021_february10_february11','2021_february11_february12','2021_february12_february13',\n",
    "         '2021_february13_february14','2021_february14_february15','2021_february15_february16','2021_february16_february17',\n",
    "         '2021_february17_february18','2021_february18_february19','2021_february19_february20','2021_february20_february21',\n",
    "         '2021_february21_february22','2021_february22_february23','2021_february23_february24','2021_february24_february25',\n",
    "         '2021_february25_february26','2021_february26_february27','2021_february27_february28','2021_february28_march1']"
   ]
  },
  {
   "cell_type": "code",
   "execution_count": 3,
   "metadata": {},
   "outputs": [],
   "source": [
    "docs3 = ['2021_march1_march2','2021_march2_march3','2021_march3_march4','2021_march4_march5','2021_march5_march6',\n",
    "         '2021_march6_march7','2021_march7_march8','2021_march8_march9','2021_march9_march10','2021_march10_march11',\n",
    "         '2021_march11_march12','2021_march12_march13','2021_march13_march14','2021_march14_march15','2021_march15_march16',\n",
    "         '2021_march16_march17','2021_march17_march18','2021_march18_march19','2021_march19_march20','2021_march20_march21',\n",
    "         '2021_march21_march22','2021_march22_march23','2021_march23_march24','2021_march24_march25','2021_march25_march26',\n",
    "         '2021_march26_march27','2021_march27_march28','2021_march28_march29','2021_march29_march30','2021_march30_march31',\n",
    "         '2021_march31_april1']"
   ]
  },
  {
   "cell_type": "code",
   "execution_count": 7,
   "metadata": {},
   "outputs": [],
   "source": [
    "docs4 = ['2021_april1_april2','2021_april2_april3','2021_april3_april4','2021_april4_april5','2021_april5_april6',\n",
    "         '2021_april6_april7','2021_april7_april8','2021_april8_april9','2021_april9_april10','2021_april10_april11',\n",
    "         '2021_april11_april12','2021_april12_april13','2021_april13_april14','2021_april14_april15','2021_april15_april16',\n",
    "         '2021_april16_april17','2021_april17_april18','2021_april18_april19','2021_april19_april20','2021_april20_april21',\n",
    "         '2021_april21_april22','2021_april22_april23','2021_april23_april24','2021_april24_april25','2021_april25_april26',\n",
    "         '2021_april26_april27','2021_april27_april28','2021_april28_april29','2021_april29_april30','2021_april30_may1']"
   ]
  },
  {
   "cell_type": "code",
   "execution_count": 10,
   "metadata": {},
   "outputs": [],
   "source": [
    "docs5 = ['2021_may1_may2','2021_may2_may3','2021_may3_may4','2021_may4_may5','2021_may5_may6','2021_may6_may7',\n",
    "         '2021_may7_may8','2021_may8_may9','2021_may9_may10','2021_may10_may11','2021_may11_may12','2021_may12_may13',\n",
    "         '2021_may13_may14','2021_may14_may15','2021_may15_may16','2021_may16_may17','2021_may17_may18','2021_may18_may19',\n",
    "         '2021_may19_may20','2021_may20_may21','2021_may21_may22','2021_may22_may23','2021_may23_may24','2021_may24_may25',\n",
    "         '2021_may25_may26','2021_may26_may27','2021_may27_may28','2021_may28_may29','2021_may29_may30','2021_may30_may31',\n",
    "         '2021_may31_june1']"
   ]
  },
  {
   "cell_type": "code",
   "execution_count": 13,
   "metadata": {},
   "outputs": [],
   "source": [
    "docs6 = ['2021_june1_june2','2021_june2_june3','2021_june3_june4','2021_june4_june5','2021_june5_june6','2021_june6_june7',\n",
    "         '2021_june7_june8','2021_june8_june9','2021_june9_june10','2021_june10_june11','2021_june11_june12','2021_june12_june13',\n",
    "         '2021_june13_june14','2021_june14_june15','2021_june15_june16','2021_june16_june17','2021_june17_june18','2021_june18_june19',\n",
    "         '2021_june19_june20','2021_june20_june21','2021_june21_june22','2021_june22_june23','2021_june23_june24','2021_june24_june25',\n",
    "         '2021_june25_june26','2021_june26_june27','2021_june27_june28','2021_june28_june29','2021_june29_june30','2021_june30_july1']"
   ]
  },
  {
   "cell_type": "code",
   "execution_count": 16,
   "metadata": {},
   "outputs": [],
   "source": [
    "docs7 = ['2021_july1_july2','2021_july2_july3','2021_july3_july4','2021_july4_july5','2021_july5_july6','2021_july6_july7',\n",
    "         '2021_july7_july8','2021_july8_july9','2021_july9_july10','2021_july10_july11','2021_july11_july12','2021_july12_july13',\n",
    "         '2021_july13_july14','2021_july14_july15','2021_july15_july16','2021_july16_july17','2021_july17_july18',\n",
    "         '2021_july18_july19','2021_july19_july20','2021_july20_july21','2021_july21_july22','2021_july22_july23','2021_july23_july24',\n",
    "         '2021_july24_july25','2021_july25_july26','2021_july26_july27','2021_july27_july28','2021_july28_july29','2021_july29_july30',\n",
    "         '2021_july30_july31','2021_july31_august1']"
   ]
  },
  {
   "cell_type": "code",
   "execution_count": 3,
   "metadata": {},
   "outputs": [],
   "source": [
    "docs8 = ['2021_august1_august2','2021_august2_august3','2021_august3_august4','2021_august4_august5','2021_august5_august6',\n",
    "         '2021_august6_august7','2021_august7_august8','2021_august8_august9','2021_august9_august10','2021_august10_august11',\n",
    "         '2021_august11_august12','2021_august12_august13','2021_august13_august14','2021_august14_august15','2021_august15_august16',\n",
    "         '2021_august16_august17','2021_august17_august18','2021_august18_august19','2021_august19_august20','2021_august20_august21',\n",
    "         '2021_august21_august22','2021_august22_august23','2021_august23_august24','2021_august24_august25','2021_august25_august26',\n",
    "         '2021_august26_august27','2021_august27_august28','2021_august28_august29','2021_august29_august30','2021_august30_august31',\n",
    "         '2021_august31_september1']"
   ]
  },
  {
   "cell_type": "code",
   "execution_count": 6,
   "metadata": {},
   "outputs": [],
   "source": [
    "docs9 = ['2021_september1_september2','2021_september2_september3','2021_september3_september4','2021_september4_september5',\n",
    "         '2021_september5_september6','2021_september6_september7','2021_september7_september8','2021_september8_september9',\n",
    "         '2021_september9_september10','2021_september10_september11','2021_september11_september12','2021_september12_september13',\n",
    "         '2021_september13_september14','2021_september14_september15','2021_september15_september16','2021_september16_september17',\n",
    "         '2021_september17_september18','2021_september18_september19','2021_september19_september20','2021_september20_september21',\n",
    "         '2021_september21_september22','2021_september22_september23','2021_september23_september24','2021_september24_september25',\n",
    "         '2021_september25_september26','2021_september26_september27','2021_september27_september28','2021_september28_september29',\n",
    "         '2021_september29_september30','2021_september30_october1']"
   ]
  },
  {
   "cell_type": "code",
   "execution_count": 2,
   "metadata": {},
   "outputs": [],
   "source": [
    "docs10 = ['2021_october1_october2','2021_october2_october3','2021_october3_october4','2021_october4_october5',\n",
    "          '2021_october5_october6','2021_october6_october7','2021_october7_october8','2021_october8_october9',\n",
    "          '2021_october9_october10','2021_october10_october11','2021_october11_october12','2021_october12_october13',\n",
    "          '2021_october13_october14','2021_october14_october15','2021_october15_october16','2021_october16_october17',\n",
    "          '2021_october17_october18','2021_october18_october19','2021_october19_october20','2021_october20_october21',\n",
    "          '2021_october21_october22','2021_october22_october23','2021_october23_october24','2021_october24_october25',\n",
    "          '2021_october25_october26','2021_october26_october27','2021_october27_october28','2021_october28_october29',\n",
    "          '2021_october29_october30','2021_october30_october31','2021_october31_november1']"
   ]
  },
  {
   "cell_type": "code",
   "execution_count": 9,
   "metadata": {},
   "outputs": [],
   "source": [
    "docs11 = ['2021_november1_november2','2021_november2_november3','2021_november3_november4','2021_november4_november5',\n",
    "          '2021_november5_november6','2021_november6_november7','2021_november7_november8','2021_november8_november9',\n",
    "          '2021_november9_november10','2021_november10_november11','2021_november11_november12','2021_november12_november13',\n",
    "          '2021_november13_november14','2021_november14_november15','2021_november15_november16','2021_november16_november17',\n",
    "          '2021_november17_november18','2021_november18_november19','2021_november19_november20','2021_november20_november21',\n",
    "          '2021_november21_november22','2021_november22_november23','2021_november23_november24','2021_november24_november25',\n",
    "          '2021_november25_november26','2021_november26_november27','2021_november27_november28','2021_november28_november29',\n",
    "          '2021_november29_november30','2021_november30_december1']"
   ]
  },
  {
   "cell_type": "code",
   "execution_count": 12,
   "metadata": {},
   "outputs": [],
   "source": [
    "docs12 = ['2021_december1_december2','2021_december2_december3','2021_december3_december4','2021_december4_december5',\n",
    "          '2021_december5_december6','2021_december6_december7','2021_december7_december8','2021_december8_december9',\n",
    "          '2021_december9_december10','2021_december10_december11','2021_december11_december12','2021_december12_december13',\n",
    "          '2021_december13_december14','2021_december14_december15','2021_december15_december16','2021_december16_december17',\n",
    "          '2021_december17_december18','2021_december18_december19','2021_december19_december20','2021_december20_december21',\n",
    "          '2021_december21_december22','2021_december22_december23','2021_december23_december24','2021_december24_december25',\n",
    "          '2021_december25_december26','2021_december26_december27','2021_december27_december28','2021_december28_december29',\n",
    "          '2021_december29_december30','2021_december30_december31','2021_december31_january1']"
   ]
  },
  {
   "cell_type": "code",
   "execution_count": 16,
   "metadata": {},
   "outputs": [],
   "source": [
    "docs13 = ['2022_january1_january2','2022_january2_january3','2022_january3_january4','2022_january4_january5','2022_january5_january6','2022_january6_january7',\n",
    "        '2022_january7_january8','2022_january8_january9','2022_january9_january10','2022_january10_january11',\n",
    "        '2022_january11_january12','2022_january12_january13','2022_january13_january14','2022_january14_january15',\n",
    "        '2022_january15_january16','2022_january16_january17','2022_january17_january18','2022_january18_january19',\n",
    "        '2022_january19_january20','2022_january20_january21','2022_january21_january22','2022_january22_january23',\n",
    "        '2022_january23_january24','2022_january24_january25','2022_january25_january26','2022_january26_january27',\n",
    "        '2022_january27_january28','2022_january28_january29','2022_january29_january30','2022_january30_january31',\n",
    "        '2022_january31_february1']"
   ]
  },
  {
   "cell_type": "code",
   "execution_count": 7,
   "metadata": {},
   "outputs": [],
   "source": [
    "docs14 = ['2022_february1_february2','2022_february2_february3','2022_february3_february4','2022_february4_february5',\n",
    "         '2022_february5_february6','2022_february6_february7','2022_february7_february8','2022_february8_february9',\n",
    "         '2022_february9_february10','2022_february10_february11','2022_february11_february12','2022_february12_february13',\n",
    "         '2022_february13_february14','2022_february14_february15','2022_february15_february16','2022_february16_february17',\n",
    "         '2022_february17_february18','2022_february18_february19','2022_february19_february20','2022_february20_february21',\n",
    "         '2022_february21_february22','2022_february22_february23','2022_february23_february24','2022_february24_february25',\n",
    "         '2022_february25_february26','2022_february26_february27','2022_february27_february28','2022_february28_march1']"
   ]
  },
  {
   "cell_type": "code",
   "execution_count": 10,
   "metadata": {},
   "outputs": [],
   "source": [
    "docs15 = ['2022_march1_march2','2022_march2_march3','2022_march3_march4','2022_march4_march5','2022_march5_march6',\n",
    "         '2022_march6_march7','2022_march7_march8','2022_march8_march9','2022_march9_march10','2022_march10_march11',\n",
    "         '2022_march11_march12','2022_march12_march13','2022_march13_march14','2022_march14_march15','2022_march15_march16',\n",
    "         '2022_march16_march17','2022_march17_march18','2022_march18_march19','2022_march19_march20','2022_march20_march21',\n",
    "         '2022_march21_march22','2022_march22_march23','2022_march23_march24','2022_march24_march25','2022_march25_march26',\n",
    "         '2022_march26_march27','2022_march27_march28','2022_march28_march29','2022_march29_march30','2022_march30_march31',\n",
    "         '2022_march31_april1']"
   ]
  },
  {
   "cell_type": "code",
   "execution_count": 13,
   "metadata": {},
   "outputs": [],
   "source": [
    "docs16 = ['2022_april1_april2','2022_april2_april3','2022_april3_april4','2022_april4_april5','2022_april5_april6',\n",
    "         '2022_april6_april7','2022_april7_april8','2022_april8_april9','2022_april9_april10','2022_april10_april11',\n",
    "         '2022_april11_april12','2022_april12_april13','2022_april13_april14','2022_april14_april15','2022_april15_april16',\n",
    "         '2022_april16_april17','2022_april17_april18','2022_april18_april19','2022_april19_april20','2022_april20_april21',\n",
    "         '2022_april21_april22','2022_april22_april23','2022_april23_april24','2022_april24_april25','2022_april25_april26',\n",
    "         '2022_april26_april27','2022_april27_april28','2022_april28_april29','2022_april29_april30','2022_april30_may1']"
   ]
  },
  {
   "cell_type": "code",
   "execution_count": 15,
   "metadata": {},
   "outputs": [],
   "source": [
    "docs17 = ['2022_may1_may2','2022_may2_may3','2022_may3_may4','2022_may4_may5','2022_may5_may6','2022_may6_may7',\n",
    "         '2022_may7_may8','2022_may8_may9','2022_may9_may10','2022_may10_may11','2022_may11_may12','2022_may12_may13',\n",
    "         '2022_may13_may14','2022_may14_may15','2022_may15_may16','2022_may16_may17','2022_may17_may18','2022_may18_may19',\n",
    "         '2022_may19_may20','2022_may20_may21','2022_may21_may22','2022_may22_may23','2022_may23_may24','2022_may24_may25',\n",
    "         '2022_may25_may26','2022_may26_may27','2022_may27_may28','2022_may28_may29','2022_may29_may30','2022_may30_may31',\n",
    "         '2022_may31_june1']"
   ]
  },
  {
   "cell_type": "code",
   "execution_count": 18,
   "metadata": {},
   "outputs": [],
   "source": [
    "for i in docs17:\n",
    "    dataframe=pd.read_csv(i+'.csv', header=None)\n",
    "    dataframe=dataframe[0]\n",
    "    dataframe.to_csv('ready'+i+'.csv', index=False, header=None)"
   ]
  },
  {
   "cell_type": "code",
   "execution_count": 15,
   "metadata": {},
   "outputs": [],
   "source": [
    "dataframe=pd.read_csv('2021_january18_january19.csv', header=None)\n",
    "dataframe=dataframe[0]\n",
    "dataframe.to_csv('ready_2021_january18_january19.csv', index=False, header=None)"
   ]
  },
  {
   "cell_type": "code",
   "execution_count": null,
   "metadata": {},
   "outputs": [],
   "source": []
  }
 ],
 "metadata": {
  "kernelspec": {
   "display_name": "Python 3",
   "language": "python",
   "name": "python3"
  },
  "language_info": {
   "codemirror_mode": {
    "name": "ipython",
    "version": 3
   },
   "file_extension": ".py",
   "mimetype": "text/x-python",
   "name": "python",
   "nbconvert_exporter": "python",
   "pygments_lexer": "ipython3",
   "version": "3.7.4"
  },
  "toc": {
   "base_numbering": 1,
   "nav_menu": {},
   "number_sections": true,
   "sideBar": true,
   "skip_h1_title": false,
   "title_cell": "Table of Contents",
   "title_sidebar": "Contents",
   "toc_cell": false,
   "toc_position": {},
   "toc_section_display": true,
   "toc_window_display": false
  },
  "varInspector": {
   "cols": {
    "lenName": 16,
    "lenType": 16,
    "lenVar": 40
   },
   "kernels_config": {
    "python": {
     "delete_cmd_postfix": "",
     "delete_cmd_prefix": "del ",
     "library": "var_list.py",
     "varRefreshCmd": "print(var_dic_list())"
    },
    "r": {
     "delete_cmd_postfix": ") ",
     "delete_cmd_prefix": "rm(",
     "library": "var_list.r",
     "varRefreshCmd": "cat(var_dic_list()) "
    }
   },
   "types_to_exclude": [
    "module",
    "function",
    "builtin_function_or_method",
    "instance",
    "_Feature"
   ],
   "window_display": false
  }
 },
 "nbformat": 4,
 "nbformat_minor": 2
}
